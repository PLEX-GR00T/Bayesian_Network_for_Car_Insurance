{
 "cells": [
  {
   "cell_type": "code",
   "execution_count": 3,
   "metadata": {},
   "outputs": [],
   "source": [
    "from pgmpy.models import BayesianModel\n",
    "from pgmpy.factors.discrete import TabularCPD\n",
    "from pgmpy.inference import VariableElimination"
   ]
  },
  {
   "cell_type": "code",
   "execution_count": 5,
   "metadata": {},
   "outputs": [],
   "source": [
    "model = BayesianModel([ ('Age','GoodStudent'),('SocioEcon','GoodStudent'), \n",
    "                        ('Age','SocioEcon'), \n",
    "                        ('Age','RiskAversion'),('SocioEcon','RiskAversion'), \n",
    "                        ('SocioEcon','VehicleYear'),('RiskAversion','VehicleYear'), \n",
    "                        ('Accident','OwnCarDamage'),('Ruggedness','OwnCarDamage'), \n",
    "                        ('MakeModel','Ruggedness'),('VehicleYear','Ruggedness'), \n",
    "                        ('SafetyFeatures','Accident'),('Mileage','Accident'),('DrivingBehavior','Accident'), \n",
    "                        ('SocioEcon','MakeModel'), ('RiskAversion','MakeModel'), \n",
    "                        ('DrivingSkill','DrivingBehavior'),('RiskAversion','DrivingBehavior'), \n",
    "                        ('MakeModel','SafetyFeatures'),('VehicleYear','SafetyFeatures'), \n",
    "                        ('Age','DrivingSkill'),('YearsLicensed','DrivingSkill'),\n",
    "                        ('Age','YearsLicensed'),\n",
    "                        ('OwnCarDamage','OwnCarCost'),('CarValue','OwnCarCost'),('Theft','OwnCarCost'), \n",
    "                        ('AntiTheft','Theft'),('Garaged','Theft'),('CarValue','Theft'),\n",
    "                        ('MakeModel','CarValue'),('VehicleYear','CarValue'),('Mileage','CarValue'),\n",
    "                        ('RiskAversion','Garaged'),('SocioEcon','Garaged'), \n",
    "                        ('RiskAversion','AntiTheft'),('SocioEcon','AntiTheft'), \n",
    "                        ('OtherCarCost','PropertyCost'),('OwnCarCost','PropertyCost'),\n",
    "                        ('Accident','OtherCarCost'),('Ruggedness','OtherCarCost'),\n",
    "                        ('SocioEcon','ExtraCar'),\n",
    "                        ('Accident','MedicalCost'),('Age','MedicalCost'),('Cushioning','MedicalCost'), \n",
    "                        ('Ruggedness','Cushioning'),('Airbag','Cushioning'),\n",
    "                        ('MakeModel','Airbag'),('VehicleYear','Airbag'),\n",
    "                        ('Accident','LiabilityCost'),\n",
    "                        ('YearsLicensed','DrivingRecord'),('DrivingSkill','DrivingRecord'),('RiskAversion','DrivingRecord') ]) "
   ]
  },
  {
   "cell_type": "code",
   "execution_count": null,
   "metadata": {},
   "outputs": [],
   "source": []
  }
 ],
 "metadata": {
  "interpreter": {
   "hash": "6dc097e0eb3fe4216077456bac77c3f67cb32ecea04e39687a2e48a36660327a"
  },
  "kernelspec": {
   "display_name": "Python 3.9.7 64-bit ('venvTF': venv)",
   "name": "python3"
  },
  "language_info": {
   "codemirror_mode": {
    "name": "ipython",
    "version": 3
   },
   "file_extension": ".py",
   "mimetype": "text/x-python",
   "name": "python",
   "nbconvert_exporter": "python",
   "pygments_lexer": "ipython3",
   "version": "3.9.7"
  },
  "orig_nbformat": 4
 },
 "nbformat": 4,
 "nbformat_minor": 2
}
